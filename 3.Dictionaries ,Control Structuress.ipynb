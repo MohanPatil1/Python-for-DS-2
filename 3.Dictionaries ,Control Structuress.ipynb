{
 "cells": [
  {
   "cell_type": "markdown",
   "id": "fdbf794e",
   "metadata": {},
   "source": [
    "## Dictionaries\n",
    "- A Data Structures which has key and value pair\n",
    "- syntax {}\n",
    "- Mutable\n",
    "- Not ordered"
   ]
  },
  {
   "cell_type": "code",
   "execution_count": 1,
   "id": "3e663e32",
   "metadata": {},
   "outputs": [],
   "source": [
    "fruits = {'a':'apple','b':'banana','c':'cherry'}"
   ]
  },
  {
   "cell_type": "code",
   "execution_count": 2,
   "id": "f460a7df",
   "metadata": {},
   "outputs": [
    {
     "name": "stdout",
     "output_type": "stream",
     "text": [
      "<class 'dict'>\n"
     ]
    }
   ],
   "source": [
    "print(type(fruits))"
   ]
  },
  {
   "cell_type": "code",
   "execution_count": 3,
   "id": "086b2549",
   "metadata": {},
   "outputs": [
    {
     "data": {
      "text/plain": [
       "3"
      ]
     },
     "execution_count": 3,
     "metadata": {},
     "output_type": "execute_result"
    }
   ],
   "source": [
    "len(fruits)"
   ]
  },
  {
   "cell_type": "code",
   "execution_count": 4,
   "id": "7d54e15b",
   "metadata": {},
   "outputs": [
    {
     "data": {
      "text/plain": [
       "'apple'"
      ]
     },
     "execution_count": 4,
     "metadata": {},
     "output_type": "execute_result"
    }
   ],
   "source": [
    "fruits['a']"
   ]
  },
  {
   "cell_type": "markdown",
   "id": "09d21f45",
   "metadata": {},
   "source": [
    "## Add Element in dictionary"
   ]
  },
  {
   "cell_type": "code",
   "execution_count": 5,
   "id": "6347f259",
   "metadata": {},
   "outputs": [],
   "source": [
    "fruits['p']='papaya'"
   ]
  },
  {
   "cell_type": "code",
   "execution_count": 6,
   "id": "5e913be1",
   "metadata": {},
   "outputs": [
    {
     "data": {
      "text/plain": [
       "{'a': 'apple', 'b': 'banana', 'c': 'cherry', 'p': 'papaya'}"
      ]
     },
     "execution_count": 6,
     "metadata": {},
     "output_type": "execute_result"
    }
   ],
   "source": [
    "fruits"
   ]
  },
  {
   "cell_type": "code",
   "execution_count": 7,
   "id": "c731ee73",
   "metadata": {},
   "outputs": [],
   "source": [
    "fruits['a']='apricot'"
   ]
  },
  {
   "cell_type": "code",
   "execution_count": 8,
   "id": "fd1998c9",
   "metadata": {},
   "outputs": [
    {
     "data": {
      "text/plain": [
       "{'a': 'apricot', 'b': 'banana', 'c': 'cherry', 'p': 'papaya'}"
      ]
     },
     "execution_count": 8,
     "metadata": {},
     "output_type": "execute_result"
    }
   ],
   "source": [
    "fruits"
   ]
  },
  {
   "cell_type": "code",
   "execution_count": 9,
   "id": "f68c88cc",
   "metadata": {},
   "outputs": [],
   "source": [
    "fruits['A']='apple'"
   ]
  },
  {
   "cell_type": "code",
   "execution_count": 10,
   "id": "42754a5e",
   "metadata": {},
   "outputs": [
    {
     "data": {
      "text/plain": [
       "{'a': 'apricot', 'b': 'banana', 'c': 'cherry', 'p': 'papaya', 'A': 'apple'}"
      ]
     },
     "execution_count": 10,
     "metadata": {},
     "output_type": "execute_result"
    }
   ],
   "source": [
    "fruits"
   ]
  },
  {
   "cell_type": "code",
   "execution_count": 11,
   "id": "0a273519",
   "metadata": {},
   "outputs": [],
   "source": [
    "## Delete key - value pair in dictionary"
   ]
  },
  {
   "cell_type": "code",
   "execution_count": 12,
   "id": "f98abbb8",
   "metadata": {},
   "outputs": [
    {
     "data": {
      "text/plain": [
       "'apple'"
      ]
     },
     "execution_count": 12,
     "metadata": {},
     "output_type": "execute_result"
    }
   ],
   "source": [
    "fruits.pop('A')"
   ]
  },
  {
   "cell_type": "code",
   "execution_count": 13,
   "id": "52d310ed",
   "metadata": {},
   "outputs": [
    {
     "data": {
      "text/plain": [
       "{'a': 'apricot', 'b': 'banana', 'c': 'cherry', 'p': 'papaya'}"
      ]
     },
     "execution_count": 13,
     "metadata": {},
     "output_type": "execute_result"
    }
   ],
   "source": [
    "fruits"
   ]
  },
  {
   "cell_type": "code",
   "execution_count": 14,
   "id": "213e88b0",
   "metadata": {},
   "outputs": [],
   "source": [
    "del fruits['p']"
   ]
  },
  {
   "cell_type": "code",
   "execution_count": 15,
   "id": "23bb23fc",
   "metadata": {},
   "outputs": [
    {
     "data": {
      "text/plain": [
       "{'a': 'apricot', 'b': 'banana', 'c': 'cherry'}"
      ]
     },
     "execution_count": 15,
     "metadata": {},
     "output_type": "execute_result"
    }
   ],
   "source": [
    "fruits"
   ]
  },
  {
   "cell_type": "code",
   "execution_count": 16,
   "id": "9e39f320",
   "metadata": {},
   "outputs": [
    {
     "data": {
      "text/plain": [
       "('c', 'cherry')"
      ]
     },
     "execution_count": 16,
     "metadata": {},
     "output_type": "execute_result"
    }
   ],
   "source": [
    "fruits.popitem()"
   ]
  },
  {
   "cell_type": "code",
   "execution_count": 17,
   "id": "f6bc63a9",
   "metadata": {},
   "outputs": [
    {
     "data": {
      "text/plain": [
       "{'a': 'apricot', 'b': 'banana'}"
      ]
     },
     "execution_count": 17,
     "metadata": {},
     "output_type": "execute_result"
    }
   ],
   "source": [
    "fruits"
   ]
  },
  {
   "cell_type": "code",
   "execution_count": 18,
   "id": "ec2fea7f",
   "metadata": {},
   "outputs": [],
   "source": [
    "fruits['fruits']=['apple','banana','cherry']"
   ]
  },
  {
   "cell_type": "code",
   "execution_count": 19,
   "id": "84d1aedd",
   "metadata": {},
   "outputs": [
    {
     "data": {
      "text/plain": [
       "{'a': 'apricot', 'b': 'banana', 'fruits': ['apple', 'banana', 'cherry']}"
      ]
     },
     "execution_count": 19,
     "metadata": {},
     "output_type": "execute_result"
    }
   ],
   "source": [
    "fruits"
   ]
  },
  {
   "cell_type": "code",
   "execution_count": 20,
   "id": "5960f5f7",
   "metadata": {},
   "outputs": [
    {
     "data": {
      "text/plain": [
       "dict_values(['apricot', 'banana', ['apple', 'banana', 'cherry']])"
      ]
     },
     "execution_count": 20,
     "metadata": {},
     "output_type": "execute_result"
    }
   ],
   "source": [
    "fruits.values()"
   ]
  },
  {
   "cell_type": "code",
   "execution_count": 22,
   "id": "1902c87d",
   "metadata": {},
   "outputs": [],
   "source": [
    "values = []\n",
    "for i in fruits.values():\n",
    "    values.append(i)"
   ]
  },
  {
   "cell_type": "code",
   "execution_count": 23,
   "id": "af96ff8b",
   "metadata": {},
   "outputs": [
    {
     "data": {
      "text/plain": [
       "['apricot', 'banana', ['apple', 'banana', 'cherry']]"
      ]
     },
     "execution_count": 23,
     "metadata": {},
     "output_type": "execute_result"
    }
   ],
   "source": [
    "values"
   ]
  },
  {
   "cell_type": "code",
   "execution_count": 24,
   "id": "59e60244",
   "metadata": {},
   "outputs": [
    {
     "data": {
      "text/plain": [
       "{'a': 'apricot', 'b': 'banana', 'fruits': ['apple', 'banana', 'cherry']}"
      ]
     },
     "execution_count": 24,
     "metadata": {},
     "output_type": "execute_result"
    }
   ],
   "source": [
    "fruits"
   ]
  },
  {
   "cell_type": "code",
   "execution_count": 25,
   "id": "7946f6a1",
   "metadata": {},
   "outputs": [
    {
     "data": {
      "text/plain": [
       "('fruits', ['apple', 'banana', 'cherry'])"
      ]
     },
     "execution_count": 25,
     "metadata": {},
     "output_type": "execute_result"
    }
   ],
   "source": [
    "fruits.popitem()"
   ]
  },
  {
   "cell_type": "code",
   "execution_count": 26,
   "id": "c5a11cae",
   "metadata": {},
   "outputs": [
    {
     "data": {
      "text/plain": [
       "{'a': 'apricot', 'b': 'banana'}"
      ]
     },
     "execution_count": 26,
     "metadata": {},
     "output_type": "execute_result"
    }
   ],
   "source": [
    "fruits"
   ]
  },
  {
   "cell_type": "code",
   "execution_count": 27,
   "id": "8cd2577f",
   "metadata": {},
   "outputs": [],
   "source": [
    "fruits['c']='cherry'"
   ]
  },
  {
   "cell_type": "code",
   "execution_count": 28,
   "id": "d7136adf",
   "metadata": {},
   "outputs": [
    {
     "data": {
      "text/plain": [
       "{'a': 'apricot', 'b': 'banana', 'c': 'cherry'}"
      ]
     },
     "execution_count": 28,
     "metadata": {},
     "output_type": "execute_result"
    }
   ],
   "source": [
    "fruits"
   ]
  },
  {
   "cell_type": "code",
   "execution_count": 29,
   "id": "8745673b",
   "metadata": {},
   "outputs": [
    {
     "data": {
      "text/plain": [
       "dict_values(['apricot', 'banana', 'cherry'])"
      ]
     },
     "execution_count": 29,
     "metadata": {},
     "output_type": "execute_result"
    }
   ],
   "source": [
    "fruits.values()"
   ]
  },
  {
   "cell_type": "code",
   "execution_count": 30,
   "id": "312bd17a",
   "metadata": {},
   "outputs": [
    {
     "name": "stdout",
     "output_type": "stream",
     "text": [
      "('a', 'apricot')\n",
      "('b', 'banana')\n",
      "('c', 'cherry')\n"
     ]
    }
   ],
   "source": [
    "for i in fruits.items():\n",
    "    print(i)"
   ]
  },
  {
   "cell_type": "code",
   "execution_count": 31,
   "id": "7c2c5a08",
   "metadata": {},
   "outputs": [
    {
     "data": {
      "text/plain": [
       "dict_items([('a', 'apricot'), ('b', 'banana'), ('c', 'cherry')])"
      ]
     },
     "execution_count": 31,
     "metadata": {},
     "output_type": "execute_result"
    }
   ],
   "source": [
    "fruits.items()"
   ]
  },
  {
   "cell_type": "markdown",
   "id": "57974568",
   "metadata": {},
   "source": [
    "## In operator"
   ]
  },
  {
   "cell_type": "code",
   "execution_count": 32,
   "id": "e69af554",
   "metadata": {},
   "outputs": [],
   "source": [
    "s = 'WELCOME'"
   ]
  },
  {
   "cell_type": "code",
   "execution_count": 34,
   "id": "84f5f1a0",
   "metadata": {},
   "outputs": [
    {
     "data": {
      "text/plain": [
       "True"
      ]
     },
     "execution_count": 34,
     "metadata": {},
     "output_type": "execute_result"
    }
   ],
   "source": [
    "'W' in s"
   ]
  },
  {
   "cell_type": "code",
   "execution_count": 35,
   "id": "59bfa7ba",
   "metadata": {},
   "outputs": [
    {
     "data": {
      "text/plain": [
       "True"
      ]
     },
     "execution_count": 35,
     "metadata": {},
     "output_type": "execute_result"
    }
   ],
   "source": [
    "'a' in fruits"
   ]
  },
  {
   "cell_type": "code",
   "execution_count": 36,
   "id": "60652e13",
   "metadata": {},
   "outputs": [
    {
     "data": {
      "text/plain": [
       "False"
      ]
     },
     "execution_count": 36,
     "metadata": {},
     "output_type": "execute_result"
    }
   ],
   "source": [
    "'apricot'in fruits"
   ]
  },
  {
   "cell_type": "markdown",
   "id": "6041b101",
   "metadata": {},
   "source": [
    "## Range\n",
    "- Used to generate sequence of number\n",
    "- Syntax,startpos(include),endpos(exclude),stepsize"
   ]
  },
  {
   "cell_type": "code",
   "execution_count": 39,
   "id": "710ea6cf",
   "metadata": {},
   "outputs": [],
   "source": [
    "r = range(0,11)"
   ]
  },
  {
   "cell_type": "code",
   "execution_count": 40,
   "id": "5487bf77",
   "metadata": {},
   "outputs": [
    {
     "data": {
      "text/plain": [
       "range(0, 11)"
      ]
     },
     "execution_count": 40,
     "metadata": {},
     "output_type": "execute_result"
    }
   ],
   "source": [
    "r"
   ]
  },
  {
   "cell_type": "code",
   "execution_count": 41,
   "id": "120dec99",
   "metadata": {},
   "outputs": [
    {
     "name": "stdout",
     "output_type": "stream",
     "text": [
      "<class 'range'>\n"
     ]
    }
   ],
   "source": [
    "print(type(r))"
   ]
  },
  {
   "cell_type": "code",
   "execution_count": 43,
   "id": "a2ec0c0f",
   "metadata": {},
   "outputs": [
    {
     "data": {
      "text/plain": [
       "[0, 1, 2, 3, 4, 5, 6, 7, 8, 9, 10]"
      ]
     },
     "execution_count": 43,
     "metadata": {},
     "output_type": "execute_result"
    }
   ],
   "source": [
    "r = list(r)\n",
    "r"
   ]
  },
  {
   "cell_type": "code",
   "execution_count": 45,
   "id": "48556e73",
   "metadata": {},
   "outputs": [
    {
     "data": {
      "text/plain": [
       "(0, 1, 2, 3, 4, 5, 6, 7, 8, 9, 10)"
      ]
     },
     "execution_count": 45,
     "metadata": {},
     "output_type": "execute_result"
    }
   ],
   "source": [
    "t = tuple(range(0,11))\n",
    "t"
   ]
  },
  {
   "cell_type": "code",
   "execution_count": 46,
   "id": "421cffe1",
   "metadata": {},
   "outputs": [
    {
     "data": {
      "text/plain": [
       "[0, 2, 4, 6, 8, 10]"
      ]
     },
     "execution_count": 46,
     "metadata": {},
     "output_type": "execute_result"
    }
   ],
   "source": [
    "r = list(range(0,11,2))\n",
    "r"
   ]
  },
  {
   "cell_type": "code",
   "execution_count": 48,
   "id": "3eed1466",
   "metadata": {},
   "outputs": [
    {
     "data": {
      "text/plain": [
       "[11, 10, 9, 8, 7, 6, 5, 4, 3, 2, 1]"
      ]
     },
     "execution_count": 48,
     "metadata": {},
     "output_type": "execute_result"
    }
   ],
   "source": [
    "r = list(range(11,0,-1))\n",
    "r"
   ]
  },
  {
   "cell_type": "code",
   "execution_count": 49,
   "id": "c7b5f063",
   "metadata": {},
   "outputs": [
    {
     "data": {
      "text/plain": [
       "[100, 90, 80, 70, 60, 50, 40, 30, 20, 10]"
      ]
     },
     "execution_count": 49,
     "metadata": {},
     "output_type": "execute_result"
    }
   ],
   "source": [
    "r = list(range(100,0,-10))\n",
    "r"
   ]
  },
  {
   "cell_type": "markdown",
   "id": "50a71faf",
   "metadata": {},
   "source": [
    "## Control Structures"
   ]
  },
  {
   "cell_type": "code",
   "execution_count": 50,
   "id": "5cc97af1",
   "metadata": {},
   "outputs": [],
   "source": [
    "## Input"
   ]
  },
  {
   "cell_type": "code",
   "execution_count": 54,
   "id": "6b5fb44f",
   "metadata": {},
   "outputs": [
    {
     "name": "stdout",
     "output_type": "stream",
     "text": [
      "Enter the Number :15\n",
      "Enter the Number :15\n"
     ]
    }
   ],
   "source": [
    "score1 = int(input(\"Enter the Number :\"))\n",
    "score2 = int(input(\"Enter the Number :\"))"
   ]
  },
  {
   "cell_type": "code",
   "execution_count": 58,
   "id": "d5b0a05d",
   "metadata": {},
   "outputs": [
    {
     "data": {
      "text/plain": [
       "30"
      ]
     },
     "execution_count": 58,
     "metadata": {},
     "output_type": "execute_result"
    }
   ],
   "source": [
    "add_nums(score1,score2)"
   ]
  },
  {
   "cell_type": "code",
   "execution_count": 57,
   "id": "4035d839",
   "metadata": {},
   "outputs": [],
   "source": [
    "def add_nums(a,b):\n",
    "    return a+b"
   ]
  },
  {
   "cell_type": "markdown",
   "id": "6561586f",
   "metadata": {},
   "source": [
    "## Conditional Statement"
   ]
  },
  {
   "cell_type": "code",
   "execution_count": 59,
   "id": "1fbc5c37",
   "metadata": {},
   "outputs": [
    {
     "name": "stdout",
     "output_type": "stream",
     "text": [
      "Enter the Number :15\n",
      "15 <class 'int'>\n"
     ]
    }
   ],
   "source": [
    "number = int(input(\"Enter the Number :\"))\n",
    "print(number,type(number))"
   ]
  },
  {
   "cell_type": "code",
   "execution_count": 61,
   "id": "07e64ce8",
   "metadata": {},
   "outputs": [
    {
     "name": "stdout",
     "output_type": "stream",
     "text": [
      "Enter the Number :-10\n",
      "User has entered Negative number.\n"
     ]
    }
   ],
   "source": [
    "number = int(input(\"Enter the Number :\"))\n",
    "if number>=0:\n",
    "    print(\"User has entered Positive number.\")\n",
    "else:\n",
    "    print(\"User has entered Negative number.\")\n"
   ]
  },
  {
   "cell_type": "code",
   "execution_count": 63,
   "id": "b2ebb1f7",
   "metadata": {},
   "outputs": [
    {
     "name": "stdout",
     "output_type": "stream",
     "text": [
      "Enter the Number :-10\n"
     ]
    }
   ],
   "source": [
    "number = int(input(\"Enter the Number :\"))\n",
    "if number>=0:\n",
    "    print(\"User has entered Positive number.\")"
   ]
  },
  {
   "cell_type": "code",
   "execution_count": 67,
   "id": "8c632249",
   "metadata": {},
   "outputs": [
    {
     "name": "stdout",
     "output_type": "stream",
     "text": [
      "Enter the Number :1\n",
      "User has entered Positive number.\n"
     ]
    }
   ],
   "source": [
    "number = int(input(\"Enter the Number :\"))\n",
    "if number>0:\n",
    "    print(\"User has entered Positive number.\")\n",
    "elif number==0:\n",
    "    print(\"User has entered zero number\")\n",
    "else:\n",
    "    print(\"User has entered negative number\")"
   ]
  },
  {
   "cell_type": "code",
   "execution_count": 70,
   "id": "4abbae77",
   "metadata": {},
   "outputs": [
    {
     "name": "stdout",
     "output_type": "stream",
     "text": [
      "1\n",
      "2\n",
      "3\n",
      "4\n",
      "5\n",
      "6\n",
      "7\n",
      "8\n",
      "9\n",
      "10\n"
     ]
    }
   ],
   "source": [
    "index = 1\n",
    "while index <= 10:\n",
    "    print(index)\n",
    "    index +=1"
   ]
  },
  {
   "cell_type": "markdown",
   "id": "9298265e",
   "metadata": {},
   "source": [
    "## Iterating through a range\n",
    "- for loop\n",
    "- syntax:keyword called for"
   ]
  },
  {
   "cell_type": "code",
   "execution_count": 71,
   "id": "a12640d6",
   "metadata": {},
   "outputs": [],
   "source": [
    "r = list(range(5,15))"
   ]
  },
  {
   "cell_type": "code",
   "execution_count": 72,
   "id": "94e11506",
   "metadata": {},
   "outputs": [
    {
     "name": "stdout",
     "output_type": "stream",
     "text": [
      "5\n",
      "6\n",
      "7\n",
      "8\n",
      "9\n",
      "10\n",
      "11\n",
      "12\n",
      "13\n",
      "14\n"
     ]
    }
   ],
   "source": [
    "for i in r:\n",
    "    print(i)"
   ]
  },
  {
   "cell_type": "code",
   "execution_count": 73,
   "id": "17a48e95",
   "metadata": {},
   "outputs": [],
   "source": [
    "companies =['amazon','flipkart','snapdeal']"
   ]
  },
  {
   "cell_type": "code",
   "execution_count": 74,
   "id": "a35b6c61",
   "metadata": {},
   "outputs": [],
   "source": [
    "websites_list = []\n",
    "for i in companies:\n",
    "    web ='www.'+i+'.com'\n",
    "    websites_list.append(web)"
   ]
  },
  {
   "cell_type": "code",
   "execution_count": 75,
   "id": "57442f9e",
   "metadata": {},
   "outputs": [
    {
     "data": {
      "text/plain": [
       "['www.amazon.com', 'www.flipkart.com', 'www.snapdeal.com']"
      ]
     },
     "execution_count": 75,
     "metadata": {},
     "output_type": "execute_result"
    }
   ],
   "source": [
    "websites_list"
   ]
  },
  {
   "cell_type": "code",
   "execution_count": 76,
   "id": "815064e6",
   "metadata": {},
   "outputs": [],
   "source": [
    "r = list(range(1,10))"
   ]
  },
  {
   "cell_type": "code",
   "execution_count": 77,
   "id": "02d243ef",
   "metadata": {},
   "outputs": [],
   "source": [
    "sqs=[]\n",
    "for i in r:\n",
    "    sqs.append(i*i)"
   ]
  },
  {
   "cell_type": "code",
   "execution_count": 78,
   "id": "318674db",
   "metadata": {},
   "outputs": [
    {
     "data": {
      "text/plain": [
       "[1, 4, 9, 16, 25, 36, 49, 64, 81]"
      ]
     },
     "execution_count": 78,
     "metadata": {},
     "output_type": "execute_result"
    }
   ],
   "source": [
    "sqs"
   ]
  },
  {
   "cell_type": "code",
   "execution_count": 79,
   "id": "b1aef49d",
   "metadata": {},
   "outputs": [
    {
     "data": {
      "text/plain": [
       "[1, 4, 9, 16, 25, 36, 49, 64, 81]"
      ]
     },
     "execution_count": 79,
     "metadata": {},
     "output_type": "execute_result"
    }
   ],
   "source": [
    "sqs =[i*i for i in r]\n",
    "sqs"
   ]
  },
  {
   "cell_type": "code",
   "execution_count": 80,
   "id": "b4037125",
   "metadata": {},
   "outputs": [],
   "source": [
    "vk = {'name':'virat','age':32,'team':'RCB'}"
   ]
  },
  {
   "cell_type": "code",
   "execution_count": 81,
   "id": "d5ff164f",
   "metadata": {},
   "outputs": [
    {
     "data": {
      "text/plain": [
       "dict_keys(['name', 'age', 'team'])"
      ]
     },
     "execution_count": 81,
     "metadata": {},
     "output_type": "execute_result"
    }
   ],
   "source": [
    "vk.keys()"
   ]
  },
  {
   "cell_type": "code",
   "execution_count": 82,
   "id": "a0722b41",
   "metadata": {},
   "outputs": [
    {
     "data": {
      "text/plain": [
       "dict_values(['virat', 32, 'RCB'])"
      ]
     },
     "execution_count": 82,
     "metadata": {},
     "output_type": "execute_result"
    }
   ],
   "source": [
    "vk.values()"
   ]
  },
  {
   "cell_type": "code",
   "execution_count": 83,
   "id": "c39cb8cf",
   "metadata": {},
   "outputs": [
    {
     "name": "stdout",
     "output_type": "stream",
     "text": [
      "name\n",
      "age\n",
      "team\n"
     ]
    }
   ],
   "source": [
    "for i in vk:\n",
    "    print(i)"
   ]
  },
  {
   "cell_type": "code",
   "execution_count": 84,
   "id": "fb3b1844",
   "metadata": {},
   "outputs": [
    {
     "name": "stdout",
     "output_type": "stream",
     "text": [
      "name virat\n",
      "age 32\n",
      "team RCB\n"
     ]
    }
   ],
   "source": [
    "for i ,j in vk.items():\n",
    "    print(i,j)"
   ]
  },
  {
   "cell_type": "code",
   "execution_count": 85,
   "id": "270d91dd",
   "metadata": {},
   "outputs": [
    {
     "name": "stdout",
     "output_type": "stream",
     "text": [
      "virat\n",
      "32\n",
      "RCB\n"
     ]
    }
   ],
   "source": [
    "for i in vk.values():\n",
    "    print(i)"
   ]
  },
  {
   "cell_type": "code",
   "execution_count": 87,
   "id": "633e1f3f",
   "metadata": {},
   "outputs": [
    {
     "name": "stdout",
     "output_type": "stream",
     "text": [
      "1\n",
      "2\n",
      "3\n",
      "4\n",
      "5\n"
     ]
    }
   ],
   "source": [
    "for i in range(1,10):\n",
    "    print(i)\n",
    "    if i==5:\n",
    "        break"
   ]
  },
  {
   "cell_type": "code",
   "execution_count": 88,
   "id": "0da1d952",
   "metadata": {},
   "outputs": [],
   "source": [
    "for i in range(1,11):\n",
    "    pass"
   ]
  },
  {
   "cell_type": "code",
   "execution_count": 92,
   "id": "b5f0865b",
   "metadata": {},
   "outputs": [
    {
     "name": "stdout",
     "output_type": "stream",
     "text": [
      "Enter a value :1,2,3\n",
      "Reversed number is : 3,2,1\n"
     ]
    }
   ],
   "source": [
    "nums = input(\"Enter a value :\")\n",
    "nums = nums[::-1]\n",
    "print(\"Reversed number is :\",nums)"
   ]
  },
  {
   "cell_type": "code",
   "execution_count": 93,
   "id": "12b779d1",
   "metadata": {},
   "outputs": [],
   "source": [
    "# Get Sum\n",
    "nums =[1,2,3]"
   ]
  },
  {
   "cell_type": "code",
   "execution_count": 94,
   "id": "5fa67632",
   "metadata": {},
   "outputs": [
    {
     "name": "stdout",
     "output_type": "stream",
     "text": [
      "6\n"
     ]
    }
   ],
   "source": [
    "res = 0\n",
    "for i in nums:\n",
    "    res=res+i\n",
    "print(res)"
   ]
  },
  {
   "cell_type": "code",
   "execution_count": 99,
   "id": "e2a116fb",
   "metadata": {},
   "outputs": [
    {
     "name": "stdout",
     "output_type": "stream",
     "text": [
      "True\n"
     ]
    }
   ],
   "source": [
    "nums = [1,2,3,4]\n",
    "for i in nums:\n",
    "    res=i%2==0\n",
    "print(res)"
   ]
  },
  {
   "cell_type": "code",
   "execution_count": null,
   "id": "95dac982",
   "metadata": {},
   "outputs": [],
   "source": []
  }
 ],
 "metadata": {
  "kernelspec": {
   "display_name": "Python 3 (ipykernel)",
   "language": "python",
   "name": "python3"
  },
  "language_info": {
   "codemirror_mode": {
    "name": "ipython",
    "version": 3
   },
   "file_extension": ".py",
   "mimetype": "text/x-python",
   "name": "python",
   "nbconvert_exporter": "python",
   "pygments_lexer": "ipython3",
   "version": "3.9.13"
  }
 },
 "nbformat": 4,
 "nbformat_minor": 5
}
