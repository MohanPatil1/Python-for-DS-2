{
 "cells": [
  {
   "cell_type": "code",
   "execution_count": 1,
   "id": "f74caa5e",
   "metadata": {},
   "outputs": [],
   "source": [
    "## List comprehensions"
   ]
  },
  {
   "cell_type": "code",
   "execution_count": 2,
   "id": "dd57f86d",
   "metadata": {},
   "outputs": [],
   "source": [
    "r = range(1,100)"
   ]
  },
  {
   "cell_type": "code",
   "execution_count": 3,
   "id": "7bceef7e",
   "metadata": {},
   "outputs": [
    {
     "name": "stdout",
     "output_type": "stream",
     "text": [
      "[1, 4, 9, 16, 25, 36, 49, 64, 81, 100, 121, 144, 169, 196, 225, 256, 289, 324, 361, 400, 441, 484, 529, 576, 625, 676, 729, 784, 841, 900, 961, 1024, 1089, 1156, 1225, 1296, 1369, 1444, 1521, 1600, 1681, 1764, 1849, 1936, 2025, 2116, 2209, 2304, 2401, 2500, 2601, 2704, 2809, 2916, 3025, 3136, 3249, 3364, 3481, 3600, 3721, 3844, 3969, 4096, 4225, 4356, 4489, 4624, 4761, 4900, 5041, 5184, 5329, 5476, 5625, 5776, 5929, 6084, 6241, 6400, 6561, 6724, 6889, 7056, 7225, 7396, 7569, 7744, 7921, 8100, 8281, 8464, 8649, 8836, 9025, 9216, 9409, 9604, 9801]\n"
     ]
    }
   ],
   "source": [
    "result = []\n",
    "for i in r:\n",
    "    result.append(i*i)\n",
    "print(result)"
   ]
  },
  {
   "cell_type": "code",
   "execution_count": 4,
   "id": "963172f1",
   "metadata": {},
   "outputs": [],
   "source": [
    "## Example 1"
   ]
  },
  {
   "cell_type": "code",
   "execution_count": 5,
   "id": "a021fab7",
   "metadata": {},
   "outputs": [
    {
     "name": "stdout",
     "output_type": "stream",
     "text": [
      "[1, 4, 9, 16, 25, 36, 49, 64, 81, 100, 121, 144, 169, 196, 225, 256, 289, 324, 361, 400, 441, 484, 529, 576, 625, 676, 729, 784, 841, 900, 961, 1024, 1089, 1156, 1225, 1296, 1369, 1444, 1521, 1600, 1681, 1764, 1849, 1936, 2025, 2116, 2209, 2304, 2401, 2500, 2601, 2704, 2809, 2916, 3025, 3136, 3249, 3364, 3481, 3600, 3721, 3844, 3969, 4096, 4225, 4356, 4489, 4624, 4761, 4900, 5041, 5184, 5329, 5476, 5625, 5776, 5929, 6084, 6241, 6400, 6561, 6724, 6889, 7056, 7225, 7396, 7569, 7744, 7921, 8100, 8281, 8464, 8649, 8836, 9025, 9216, 9409, 9604, 9801]\n"
     ]
    }
   ],
   "source": [
    "result = [i*i for i in r]\n",
    "print(result)"
   ]
  },
  {
   "cell_type": "code",
   "execution_count": 6,
   "id": "53328468",
   "metadata": {},
   "outputs": [],
   "source": [
    "## Example 2"
   ]
  },
  {
   "cell_type": "code",
   "execution_count": 9,
   "id": "c4d6816c",
   "metadata": {},
   "outputs": [
    {
     "name": "stdout",
     "output_type": "stream",
     "text": [
      "[2, 4, 6, 8, 10, 12, 14, 16, 18, 20]\n"
     ]
    }
   ],
   "source": [
    "## Traditional Approach\n",
    "result = []\n",
    "for i in range(1,21):\n",
    "    if i % 2==0:\n",
    "        result.append(i)\n",
    "print(result) "
   ]
  },
  {
   "cell_type": "code",
   "execution_count": 11,
   "id": "0aba0b85",
   "metadata": {},
   "outputs": [
    {
     "name": "stdout",
     "output_type": "stream",
     "text": [
      "[2, 4, 6, 8, 10, 12, 14, 16, 18, 20]\n"
     ]
    }
   ],
   "source": [
    "## LC\n",
    "result = [i for i in range(1,21) if i % 2==0]\n",
    "print(result)"
   ]
  },
  {
   "cell_type": "code",
   "execution_count": 13,
   "id": "1a54ab30",
   "metadata": {},
   "outputs": [],
   "source": [
    "## Example 3\n",
    "# Write a program to get list of all consonants from the word \"MATHMATICS\"\n",
    "# Subject=\"MATHMATICS\"\n",
    "# Output=[\"M\",\"T\",\"H\",\"M\",\"T\",\"C\",\"S\"]"
   ]
  },
  {
   "cell_type": "code",
   "execution_count": 14,
   "id": "6b2baaad",
   "metadata": {},
   "outputs": [
    {
     "name": "stdout",
     "output_type": "stream",
     "text": [
      "['M', 'T', 'H', 'M', 'T', 'C', 'S']\n"
     ]
    }
   ],
   "source": [
    "Subject = 'MATHMATICS'\n",
    "Output = []\n",
    "for i in Subject:\n",
    "    if i not in 'AEIOU':\n",
    "        Output.append(i)\n",
    "print(Output)"
   ]
  },
  {
   "cell_type": "code",
   "execution_count": 16,
   "id": "ae6a2cbb",
   "metadata": {},
   "outputs": [
    {
     "name": "stdout",
     "output_type": "stream",
     "text": [
      "['M', 'T', 'H', 'M', 'T', 'C', 'S']\n"
     ]
    }
   ],
   "source": [
    "# LC\n",
    "Output = [i for i in Subject if i not in 'AEIOU']\n",
    "print(Output)"
   ]
  },
  {
   "cell_type": "code",
   "execution_count": null,
   "id": "fb9e5cfc",
   "metadata": {},
   "outputs": [],
   "source": [
    "## Example 4\n",
    "# company = [\"amazon\", \"flipkart\", \"snapdeal\", \"paytm\"]\n",
    "# websites = [\"www.amazon.com\", \"www.flipkart.com\", \"www.snapdeal.com\", \"www.paytm.com\" ]"
   ]
  },
  {
   "cell_type": "code",
   "execution_count": 23,
   "id": "6405df35",
   "metadata": {},
   "outputs": [
    {
     "name": "stdout",
     "output_type": "stream",
     "text": [
      "['www.amazon.com', 'www.flipkart.com', 'www.snapdeal.com', 'www.paytm.com']\n"
     ]
    }
   ],
   "source": [
    "company = [\"amazon\", \"flipkart\", \"snapdeal\", \"paytm\"]\n",
    "result = []\n",
    "for i in company:\n",
    "    result.append('www.'+i+'.com')\n",
    "print(result)"
   ]
  },
  {
   "cell_type": "code",
   "execution_count": 24,
   "id": "426673e2",
   "metadata": {},
   "outputs": [
    {
     "data": {
      "text/plain": [
       "['www.amazon.com', 'www.flipkart.com', 'www.snapdeal.com', 'www.paytm.com']"
      ]
     },
     "execution_count": 24,
     "metadata": {},
     "output_type": "execute_result"
    }
   ],
   "source": [
    "result = ['www.'+i+'.com' for i in company]\n",
    "result"
   ]
  },
  {
   "cell_type": "code",
   "execution_count": 25,
   "id": "1b90faba",
   "metadata": {},
   "outputs": [],
   "source": [
    "result = ['www.{}.com'.format(i) for i in company]"
   ]
  },
  {
   "cell_type": "code",
   "execution_count": 26,
   "id": "6257a9b5",
   "metadata": {},
   "outputs": [
    {
     "data": {
      "text/plain": [
       "['www.amazon.com', 'www.flipkart.com', 'www.snapdeal.com', 'www.paytm.com']"
      ]
     },
     "execution_count": 26,
     "metadata": {},
     "output_type": "execute_result"
    }
   ],
   "source": [
    "result"
   ]
  },
  {
   "cell_type": "code",
   "execution_count": 27,
   "id": "1e37e1fe",
   "metadata": {},
   "outputs": [],
   "source": [
    "## Example 5\n",
    "# s = \"Welcome to the world of python programming\"\n",
    "# output = [(\"welcome\", 7), (\"to\", 2), (\"the\", 3).... ]"
   ]
  },
  {
   "cell_type": "code",
   "execution_count": 29,
   "id": "f76d337f",
   "metadata": {},
   "outputs": [],
   "source": [
    "s = \"Welcome to the world of python programming\""
   ]
  },
  {
   "cell_type": "code",
   "execution_count": 31,
   "id": "60998f79",
   "metadata": {},
   "outputs": [
    {
     "name": "stdout",
     "output_type": "stream",
     "text": [
      "[('Welcome', 7), ('to', 2), ('the', 3), ('world', 5), ('of', 2), ('python', 6), ('programming', 11)]\n"
     ]
    }
   ],
   "source": [
    "output = []\n",
    "for i in s.split():\n",
    "    output.append((i,len(i)))\n",
    "print(output)    "
   ]
  },
  {
   "cell_type": "code",
   "execution_count": 33,
   "id": "7af1c5fc",
   "metadata": {},
   "outputs": [
    {
     "data": {
      "text/plain": [
       "[('Welcome', 7),\n",
       " ('to', 2),\n",
       " ('the', 3),\n",
       " ('world', 5),\n",
       " ('of', 2),\n",
       " ('python', 6),\n",
       " ('programming', 11)]"
      ]
     },
     "execution_count": 33,
     "metadata": {},
     "output_type": "execute_result"
    }
   ],
   "source": [
    "# LC \n",
    "output = [(i,len(i)) for i in s.split()]\n",
    "output"
   ]
  },
  {
   "cell_type": "markdown",
   "id": "388d3c02",
   "metadata": {},
   "source": [
    "## dictionary Comprehension"
   ]
  },
  {
   "cell_type": "code",
   "execution_count": 34,
   "id": "6e6624e8",
   "metadata": {},
   "outputs": [],
   "source": [
    "# Example\n",
    "# numbers = [1, 2, 3, 4]\n",
    "# output = {1: 1, 2: 4, 3: 9, 4: 16}"
   ]
  },
  {
   "cell_type": "code",
   "execution_count": 37,
   "id": "841894cd",
   "metadata": {},
   "outputs": [
    {
     "name": "stdout",
     "output_type": "stream",
     "text": [
      "{1: 1, 2: 4, 3: 9, 4: 16}\n"
     ]
    }
   ],
   "source": [
    "output = {}\n",
    "for i in range(1,5):\n",
    "    output[i]=i*i\n",
    "print(output)"
   ]
  },
  {
   "cell_type": "code",
   "execution_count": 38,
   "id": "99a36dbe",
   "metadata": {},
   "outputs": [
    {
     "data": {
      "text/plain": [
       "{1: 1, 2: 4, 3: 9, 4: 16}"
      ]
     },
     "execution_count": 38,
     "metadata": {},
     "output_type": "execute_result"
    }
   ],
   "source": [
    "output = {i:i*i for i in range(1,5)}\n",
    "output"
   ]
  },
  {
   "cell_type": "code",
   "execution_count": null,
   "id": "8fe6a741",
   "metadata": {},
   "outputs": [],
   "source": []
  }
 ],
 "metadata": {
  "kernelspec": {
   "display_name": "Python 3 (ipykernel)",
   "language": "python",
   "name": "python3"
  },
  "language_info": {
   "codemirror_mode": {
    "name": "ipython",
    "version": 3
   },
   "file_extension": ".py",
   "mimetype": "text/x-python",
   "name": "python",
   "nbconvert_exporter": "python",
   "pygments_lexer": "ipython3",
   "version": "3.9.13"
  }
 },
 "nbformat": 4,
 "nbformat_minor": 5
}
