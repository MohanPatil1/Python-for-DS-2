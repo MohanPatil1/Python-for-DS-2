{
 "cells": [
  {
   "cell_type": "code",
   "execution_count": 1,
   "id": "e71f088e",
   "metadata": {},
   "outputs": [],
   "source": [
    "session_count = 10"
   ]
  },
  {
   "cell_type": "code",
   "execution_count": 2,
   "id": "a15583b6",
   "metadata": {},
   "outputs": [
    {
     "name": "stdout",
     "output_type": "stream",
     "text": [
      "10\n"
     ]
    }
   ],
   "source": [
    "print(session_count)"
   ]
  },
  {
   "cell_type": "code",
   "execution_count": 6,
   "id": "00bc8a70",
   "metadata": {},
   "outputs": [],
   "source": [
    "chapters = 8"
   ]
  },
  {
   "cell_type": "code",
   "execution_count": 7,
   "id": "a3a60e75",
   "metadata": {},
   "outputs": [
    {
     "name": "stdout",
     "output_type": "stream",
     "text": [
      "8\n"
     ]
    }
   ],
   "source": [
    "print(chapters)"
   ]
  },
  {
   "cell_type": "code",
   "execution_count": 12,
   "id": "52cc5a1b",
   "metadata": {},
   "outputs": [
    {
     "name": "stdout",
     "output_type": "stream",
     "text": [
      "There will be 8 Chapters in the course,spanned accross 10 Session\n"
     ]
    }
   ],
   "source": [
    "msg = \"There will be \"+str(chapters)+\" \"+\"Chapters in the course,spanned accross\"+\" \"+str(session_count)+\" \"+\"Session\"\n",
    "print(msg)"
   ]
  },
  {
   "cell_type": "markdown",
   "id": "262e9cbd",
   "metadata": {},
   "source": [
    "## Format"
   ]
  },
  {
   "cell_type": "code",
   "execution_count": 13,
   "id": "30d5500f",
   "metadata": {},
   "outputs": [],
   "source": [
    "fmsg = \"There will be {} chapters in the course spanned across {} session.\".format(chapters,session_count)"
   ]
  },
  {
   "cell_type": "code",
   "execution_count": 14,
   "id": "64cca37a",
   "metadata": {},
   "outputs": [
    {
     "data": {
      "text/plain": [
       "'There will be 8 chapters in the course spanned across 10 session.'"
      ]
     },
     "execution_count": 14,
     "metadata": {},
     "output_type": "execute_result"
    }
   ],
   "source": [
    "fmsg"
   ]
  },
  {
   "cell_type": "code",
   "execution_count": 15,
   "id": "0eb4d8c4",
   "metadata": {},
   "outputs": [],
   "source": [
    "fmsg = \"There will be {} chapters in the course spanned across {} sessions. The {} sessions are scheduled over a weekeday\".format(chapters, session_count, session_count)"
   ]
  },
  {
   "cell_type": "code",
   "execution_count": 16,
   "id": "3cc6073c",
   "metadata": {},
   "outputs": [
    {
     "data": {
      "text/plain": [
       "'There will be 8 chapters in the course spanned across 10 sessions. The 10 sessions are scheduled over a weekeday'"
      ]
     },
     "execution_count": 16,
     "metadata": {},
     "output_type": "execute_result"
    }
   ],
   "source": [
    "fmsg"
   ]
  },
  {
   "cell_type": "markdown",
   "id": "7f51e289",
   "metadata": {},
   "source": [
    "## Functions\n",
    "- Block of code\n",
    "- Code reusability\n",
    "- DRY -Dont repeat yourself\n",
    "\n",
    "syntax:keyword:def function name"
   ]
  },
  {
   "cell_type": "code",
   "execution_count": 19,
   "id": "cc11f66a",
   "metadata": {},
   "outputs": [],
   "source": [
    "def Simplefunction():\n",
    "    print(\"Inside the Simplefunction\")\n",
    "    print(\"Exiting the Simplefunction\")\n",
    "x = 20"
   ]
  },
  {
   "cell_type": "code",
   "execution_count": 20,
   "id": "52b94241",
   "metadata": {},
   "outputs": [
    {
     "name": "stdout",
     "output_type": "stream",
     "text": [
      "Inside the Simplefunction\n",
      "Exiting the Simplefunction\n"
     ]
    }
   ],
   "source": [
    "Simplefunction()"
   ]
  },
  {
   "cell_type": "code",
   "execution_count": 21,
   "id": "a87a2d36",
   "metadata": {},
   "outputs": [],
   "source": [
    "def findmaximum(a,b):\n",
    "    if a > b:\n",
    "        return a\n",
    "    else:\n",
    "        return b"
   ]
  },
  {
   "cell_type": "code",
   "execution_count": 22,
   "id": "3c3015c7",
   "metadata": {},
   "outputs": [
    {
     "data": {
      "text/plain": [
       "5"
      ]
     },
     "execution_count": 22,
     "metadata": {},
     "output_type": "execute_result"
    }
   ],
   "source": [
    "findmaximum(3,5)"
   ]
  },
  {
   "cell_type": "code",
   "execution_count": 23,
   "id": "7570e438",
   "metadata": {},
   "outputs": [
    {
     "data": {
      "text/plain": [
       "10"
      ]
     },
     "execution_count": 23,
     "metadata": {},
     "output_type": "execute_result"
    }
   ],
   "source": [
    "findmaximum(10,5)"
   ]
  },
  {
   "cell_type": "code",
   "execution_count": 24,
   "id": "a22e5ed0",
   "metadata": {},
   "outputs": [],
   "source": [
    "def findmaximum(a, b):\n",
    "    '''Function takes in two numbers and print the maximum'''\n",
    "    if a > b:\n",
    "        print(a)\n",
    "    else:\n",
    "        print(b)"
   ]
  },
  {
   "cell_type": "code",
   "execution_count": 25,
   "id": "2cc20752",
   "metadata": {},
   "outputs": [
    {
     "name": "stdout",
     "output_type": "stream",
     "text": [
      "9\n"
     ]
    }
   ],
   "source": [
    "findmaximum(5,9)"
   ]
  },
  {
   "cell_type": "code",
   "execution_count": 26,
   "id": "74a5828a",
   "metadata": {},
   "outputs": [],
   "source": [
    "list =[1,2,3]"
   ]
  },
  {
   "cell_type": "code",
   "execution_count": 27,
   "id": "462cf9f3",
   "metadata": {},
   "outputs": [
    {
     "data": {
      "text/plain": [
       "3"
      ]
     },
     "execution_count": 27,
     "metadata": {},
     "output_type": "execute_result"
    }
   ],
   "source": [
    "len(list)"
   ]
  },
  {
   "cell_type": "code",
   "execution_count": 28,
   "id": "c02b232f",
   "metadata": {},
   "outputs": [
    {
     "data": {
      "text/plain": [
       "<function __main__.findmaximum(a, b)>"
      ]
     },
     "execution_count": 28,
     "metadata": {},
     "output_type": "execute_result"
    }
   ],
   "source": [
    "findmaximum"
   ]
  },
  {
   "cell_type": "code",
   "execution_count": 29,
   "id": "87a56486",
   "metadata": {},
   "outputs": [],
   "source": [
    "x = 20\n",
    "y = 30"
   ]
  },
  {
   "cell_type": "code",
   "execution_count": 30,
   "id": "07f40fc8",
   "metadata": {},
   "outputs": [
    {
     "data": {
      "text/plain": [
       "20"
      ]
     },
     "execution_count": 30,
     "metadata": {},
     "output_type": "execute_result"
    }
   ],
   "source": [
    "x"
   ]
  },
  {
   "cell_type": "code",
   "execution_count": 31,
   "id": "6c1b6b01",
   "metadata": {},
   "outputs": [
    {
     "data": {
      "text/plain": [
       "30"
      ]
     },
     "execution_count": 31,
     "metadata": {},
     "output_type": "execute_result"
    }
   ],
   "source": [
    "y"
   ]
  },
  {
   "cell_type": "markdown",
   "id": "9a2eff65",
   "metadata": {},
   "source": [
    "## Factorial\n",
    "5! = 5x4x3x2x1\n",
    "\n",
    "4! = 4x3x2x1\n",
    "\n",
    "3! = 3x2x1\n",
    "\n",
    "2! = 2x1\n",
    "\n",
    "0! = 1\n",
    "\n",
    "- iterative approch"
   ]
  },
  {
   "cell_type": "code",
   "execution_count": 32,
   "id": "56a3376d",
   "metadata": {},
   "outputs": [],
   "source": [
    "def iterfactorial(num):\n",
    "    result = 1\n",
    "    for i in range(1,num+1):\n",
    "        result =result*i\n",
    "    return result"
   ]
  },
  {
   "cell_type": "code",
   "execution_count": 33,
   "id": "cd87d50d",
   "metadata": {},
   "outputs": [
    {
     "data": {
      "text/plain": [
       "120"
      ]
     },
     "execution_count": 33,
     "metadata": {},
     "output_type": "execute_result"
    }
   ],
   "source": [
    "iterfactorial(5)"
   ]
  },
  {
   "cell_type": "code",
   "execution_count": 34,
   "id": "991d0847",
   "metadata": {},
   "outputs": [
    {
     "name": "stdout",
     "output_type": "stream",
     "text": [
      "Enter a number :5\n",
      "Result : 120\n"
     ]
    }
   ],
   "source": [
    "num = int(input(\"Enter a number :\"))\n",
    "print(\"Result :\",iterfactorial(num))"
   ]
  },
  {
   "cell_type": "markdown",
   "id": "24216a41",
   "metadata": {},
   "source": [
    "## Recursive Approach\n",
    "- 5! = 5*4!\n",
    "- 4! = 4*3!\n",
    "- 3! = 3*2!\n"
   ]
  },
  {
   "cell_type": "code",
   "execution_count": 35,
   "id": "e82b07d7",
   "metadata": {},
   "outputs": [],
   "source": [
    "def recursivefact(num):\n",
    "    if num == 0 or num == 1:\n",
    "        return 1\n",
    "    else:\n",
    "        return num *recursivefact(num-1)"
   ]
  },
  {
   "cell_type": "code",
   "execution_count": 36,
   "id": "4bb11a57",
   "metadata": {},
   "outputs": [
    {
     "data": {
      "text/plain": [
       "120"
      ]
     },
     "execution_count": 36,
     "metadata": {},
     "output_type": "execute_result"
    }
   ],
   "source": [
    "recursivefact(5)"
   ]
  },
  {
   "cell_type": "markdown",
   "id": "a07bbfde",
   "metadata": {},
   "source": [
    "## Default Arguments"
   ]
  },
  {
   "cell_type": "code",
   "execution_count": 37,
   "id": "e45d7963",
   "metadata": {},
   "outputs": [],
   "source": [
    "def defaultargs(x=123):\n",
    "    print(\"the value of x is {}\".format(x))"
   ]
  },
  {
   "cell_type": "code",
   "execution_count": 38,
   "id": "0664d5af",
   "metadata": {},
   "outputs": [
    {
     "name": "stdout",
     "output_type": "stream",
     "text": [
      "the value of x is 123\n"
     ]
    }
   ],
   "source": [
    "defaultargs()"
   ]
  },
  {
   "cell_type": "code",
   "execution_count": 39,
   "id": "915df366",
   "metadata": {},
   "outputs": [
    {
     "name": "stdout",
     "output_type": "stream",
     "text": [
      "the value of x is 456\n"
     ]
    }
   ],
   "source": [
    "defaultargs(456)"
   ]
  },
  {
   "cell_type": "markdown",
   "id": "9c654197",
   "metadata": {},
   "source": [
    "## Named Arguments"
   ]
  },
  {
   "cell_type": "code",
   "execution_count": 40,
   "id": "d5ab8a56",
   "metadata": {},
   "outputs": [],
   "source": [
    "def namedarg(a,b,c):\n",
    "    print(\"The value of a :{},b:{},c:{}\".format(a,b,c))"
   ]
  },
  {
   "cell_type": "code",
   "execution_count": 41,
   "id": "aaae6cbc",
   "metadata": {},
   "outputs": [
    {
     "name": "stdout",
     "output_type": "stream",
     "text": [
      "The value of a :100,b:120,c:130\n"
     ]
    }
   ],
   "source": [
    "namedarg(100,120,130)"
   ]
  },
  {
   "cell_type": "code",
   "execution_count": 42,
   "id": "fafb178c",
   "metadata": {},
   "outputs": [
    {
     "name": "stdout",
     "output_type": "stream",
     "text": [
      "The value of a :110,b:100,c:120\n"
     ]
    }
   ],
   "source": [
    "namedarg(c=120,a=110,b=100)"
   ]
  },
  {
   "cell_type": "code",
   "execution_count": 45,
   "id": "ad2c3923",
   "metadata": {},
   "outputs": [
    {
     "ename": "SyntaxError",
     "evalue": "positional argument follows keyword argument (3082966534.py, line 1)",
     "output_type": "error",
     "traceback": [
      "\u001b[1;36m  File \u001b[1;32m\"C:\\Users\\Mohan Patil\\AppData\\Local\\Temp\\ipykernel_13736\\3082966534.py\"\u001b[1;36m, line \u001b[1;32m1\u001b[0m\n\u001b[1;33m    namedarg(c=120,110,b=100)\u001b[0m\n\u001b[1;37m                            ^\u001b[0m\n\u001b[1;31mSyntaxError\u001b[0m\u001b[1;31m:\u001b[0m positional argument follows keyword argument\n"
     ]
    }
   ],
   "source": [
    "namedarg(c=120,110,b=100)"
   ]
  },
  {
   "cell_type": "markdown",
   "id": "358ac03f",
   "metadata": {},
   "source": [
    "## lambda Function"
   ]
  },
  {
   "cell_type": "code",
   "execution_count": 48,
   "id": "287e4650",
   "metadata": {},
   "outputs": [],
   "source": [
    "def mysquare(num):\n",
    "    return num*num"
   ]
  },
  {
   "cell_type": "code",
   "execution_count": 49,
   "id": "ca2d36d7",
   "metadata": {},
   "outputs": [
    {
     "data": {
      "text/plain": [
       "4"
      ]
     },
     "execution_count": 49,
     "metadata": {},
     "output_type": "execute_result"
    }
   ],
   "source": [
    "mysquare(2)"
   ]
  },
  {
   "cell_type": "code",
   "execution_count": 50,
   "id": "ad2aa604",
   "metadata": {},
   "outputs": [],
   "source": [
    "f = lambda num: num*num"
   ]
  },
  {
   "cell_type": "code",
   "execution_count": 51,
   "id": "7086e03b",
   "metadata": {},
   "outputs": [
    {
     "data": {
      "text/plain": [
       "9"
      ]
     },
     "execution_count": 51,
     "metadata": {},
     "output_type": "execute_result"
    }
   ],
   "source": [
    "f(3)"
   ]
  },
  {
   "cell_type": "code",
   "execution_count": 52,
   "id": "1d6c6fc8",
   "metadata": {},
   "outputs": [],
   "source": [
    "sum_=lambda x,y:x * y"
   ]
  },
  {
   "cell_type": "code",
   "execution_count": 53,
   "id": "cf080b3e",
   "metadata": {},
   "outputs": [
    {
     "data": {
      "text/plain": [
       "6"
      ]
     },
     "execution_count": 53,
     "metadata": {},
     "output_type": "execute_result"
    }
   ],
   "source": [
    "sum_(2,3)"
   ]
  },
  {
   "cell_type": "code",
   "execution_count": 54,
   "id": "4635d0f5",
   "metadata": {},
   "outputs": [],
   "source": [
    "vari = \"love you\""
   ]
  },
  {
   "cell_type": "code",
   "execution_count": 55,
   "id": "7d68e96c",
   "metadata": {},
   "outputs": [
    {
     "data": {
      "text/plain": [
       "'u'"
      ]
     },
     "execution_count": 55,
     "metadata": {},
     "output_type": "execute_result"
    }
   ],
   "source": [
    "vari[-1]"
   ]
  },
  {
   "cell_type": "code",
   "execution_count": 56,
   "id": "fa5ac179",
   "metadata": {},
   "outputs": [
    {
     "data": {
      "text/plain": [
       "''"
      ]
     },
     "execution_count": 56,
     "metadata": {},
     "output_type": "execute_result"
    }
   ],
   "source": [
    "vari[-1:-3]"
   ]
  },
  {
   "cell_type": "code",
   "execution_count": 57,
   "id": "3bc86219",
   "metadata": {},
   "outputs": [
    {
     "data": {
      "text/plain": [
       "'uo'"
      ]
     },
     "execution_count": 57,
     "metadata": {},
     "output_type": "execute_result"
    }
   ],
   "source": [
    "vari[-1:-3:-1]"
   ]
  },
  {
   "cell_type": "markdown",
   "id": "eb30eaec",
   "metadata": {},
   "source": [
    "## Args and Kwargs"
   ]
  },
  {
   "cell_type": "code",
   "execution_count": 58,
   "id": "fc587132",
   "metadata": {},
   "outputs": [],
   "source": [
    "def sumofnumbers(x,y):\n",
    "    result = x + y\n",
    "    print(\"Result :\",result)"
   ]
  },
  {
   "cell_type": "code",
   "execution_count": 59,
   "id": "70b744f8",
   "metadata": {},
   "outputs": [
    {
     "name": "stdout",
     "output_type": "stream",
     "text": [
      "Result : 5\n"
     ]
    }
   ],
   "source": [
    "sumofnumbers(2,3)"
   ]
  },
  {
   "cell_type": "code",
   "execution_count": 60,
   "id": "95a774a3",
   "metadata": {},
   "outputs": [],
   "source": [
    "def SumOfNumbersUsingArgs(*args):\n",
    "    print(\"Args :\",args)\n",
    "    print(\"Type of args:\",type(args))"
   ]
  },
  {
   "cell_type": "code",
   "execution_count": 62,
   "id": "149344d7",
   "metadata": {},
   "outputs": [
    {
     "name": "stdout",
     "output_type": "stream",
     "text": [
      "Args : (5,)\n",
      "Type of args: <class 'tuple'>\n"
     ]
    }
   ],
   "source": [
    "SumOfNumbersUsingArgs(5,)"
   ]
  },
  {
   "cell_type": "code",
   "execution_count": 63,
   "id": "8d392723",
   "metadata": {},
   "outputs": [
    {
     "name": "stdout",
     "output_type": "stream",
     "text": [
      "Args : (1, 2, 3)\n",
      "Type of args: <class 'tuple'>\n"
     ]
    }
   ],
   "source": [
    "SumOfNumbersUsingArgs(1,2,3)"
   ]
  },
  {
   "cell_type": "code",
   "execution_count": 64,
   "id": "9158f08b",
   "metadata": {},
   "outputs": [],
   "source": [
    "def SumOfNumbersUsingArgs(*args):\n",
    "    print(\"Args :\",args)\n",
    "    print(\"Type of args:\",type(args))\n",
    "    result = 0\n",
    "    for item in args:\n",
    "        result += item\n",
    "    print(result)"
   ]
  },
  {
   "cell_type": "code",
   "execution_count": 65,
   "id": "0b6126cf",
   "metadata": {},
   "outputs": [
    {
     "name": "stdout",
     "output_type": "stream",
     "text": [
      "Args : (1, 2, 3, 4)\n",
      "Type of args: <class 'tuple'>\n",
      "10\n"
     ]
    }
   ],
   "source": [
    "SumOfNumbersUsingArgs(1,2,3,4)"
   ]
  },
  {
   "cell_type": "code",
   "execution_count": 66,
   "id": "82f20d21",
   "metadata": {},
   "outputs": [],
   "source": [
    "t = (1,2,3)"
   ]
  },
  {
   "cell_type": "code",
   "execution_count": 67,
   "id": "3c049ce4",
   "metadata": {},
   "outputs": [
    {
     "name": "stdout",
     "output_type": "stream",
     "text": [
      "1\n",
      "4\n",
      "9\n"
     ]
    }
   ],
   "source": [
    "for i in t:\n",
    "    print(i*i)"
   ]
  },
  {
   "cell_type": "code",
   "execution_count": 68,
   "id": "b63d5c55",
   "metadata": {},
   "outputs": [
    {
     "name": "stdout",
     "output_type": "stream",
     "text": [
      "Args : (1, 2, 3, 4, 5, 6)\n",
      "Type of args: <class 'tuple'>\n",
      "21\n"
     ]
    }
   ],
   "source": [
    "SumOfNumbersUsingArgs(1,2,3,4,5,6)"
   ]
  },
  {
   "cell_type": "code",
   "execution_count": 69,
   "id": "ea16130c",
   "metadata": {},
   "outputs": [],
   "source": [
    "t = (1,2,3,4,5)"
   ]
  },
  {
   "cell_type": "code",
   "execution_count": 71,
   "id": "d040e974",
   "metadata": {},
   "outputs": [
    {
     "name": "stdout",
     "output_type": "stream",
     "text": [
      "Args : (1, 2, 3, 4)\n",
      "Type of args: <class 'tuple'>\n",
      "10\n"
     ]
    }
   ],
   "source": [
    "SumOfNumbersUsingArgs(t[0],t[1],t[2],t[3])"
   ]
  },
  {
   "cell_type": "code",
   "execution_count": 72,
   "id": "90081ebc",
   "metadata": {},
   "outputs": [
    {
     "name": "stdout",
     "output_type": "stream",
     "text": [
      "Args : (1, 2, 3, 4, 5)\n",
      "Type of args: <class 'tuple'>\n",
      "15\n"
     ]
    }
   ],
   "source": [
    "SumOfNumbersUsingArgs(*t)"
   ]
  },
  {
   "cell_type": "markdown",
   "id": "24293ef3",
   "metadata": {},
   "source": [
    "## Args-taking user input"
   ]
  },
  {
   "cell_type": "code",
   "execution_count": 73,
   "id": "dfd859f2",
   "metadata": {},
   "outputs": [
    {
     "name": "stdout",
     "output_type": "stream",
     "text": [
      "Enter comma Separated number :11,12,13,14\n"
     ]
    }
   ],
   "source": [
    "userinput = input(\"Enter comma Separated number :\")"
   ]
  },
  {
   "cell_type": "code",
   "execution_count": 74,
   "id": "cfb5b8c8",
   "metadata": {},
   "outputs": [
    {
     "name": "stdout",
     "output_type": "stream",
     "text": [
      "['11', '12', '13', '14']\n"
     ]
    }
   ],
   "source": [
    "userinput =userinput.split(',')\n",
    "print(userinput)"
   ]
  },
  {
   "cell_type": "code",
   "execution_count": 81,
   "id": "a94f7035",
   "metadata": {},
   "outputs": [
    {
     "name": "stdout",
     "output_type": "stream",
     "text": [
      "[11, 12, 13, 14]\n"
     ]
    }
   ],
   "source": [
    "newlist = []\n",
    "for i in userinput:\n",
    "    newlist.append(int(i))\n",
    "print(newlist)"
   ]
  },
  {
   "cell_type": "code",
   "execution_count": 82,
   "id": "339a2ba5",
   "metadata": {},
   "outputs": [
    {
     "data": {
      "text/plain": [
       "list"
      ]
     },
     "execution_count": 82,
     "metadata": {},
     "output_type": "execute_result"
    }
   ],
   "source": [
    "type(newlist)"
   ]
  },
  {
   "cell_type": "code",
   "execution_count": 83,
   "id": "8403d6f9",
   "metadata": {},
   "outputs": [
    {
     "name": "stdout",
     "output_type": "stream",
     "text": [
      "Args : (11, 12, 13, 14)\n",
      "Type of args: <class 'tuple'>\n",
      "50\n"
     ]
    }
   ],
   "source": [
    "SumOfNumbersUsingArgs(*newlist)"
   ]
  },
  {
   "cell_type": "markdown",
   "id": "76313a74",
   "metadata": {},
   "source": [
    "## Kwargs -Dict"
   ]
  },
  {
   "cell_type": "code",
   "execution_count": 84,
   "id": "5d737233",
   "metadata": {},
   "outputs": [],
   "source": [
    "def printplayerdetails(**kwargs):\n",
    "    print(\"kwargs :\",kwargs)\n",
    "    print(\"Type of kwargs :\",type(kwargs))"
   ]
  },
  {
   "cell_type": "code",
   "execution_count": 85,
   "id": "074f98f8",
   "metadata": {},
   "outputs": [
    {
     "name": "stdout",
     "output_type": "stream",
     "text": [
      "kwargs : {'name': 'virat', 'age': 32}\n",
      "Type of kwargs : <class 'dict'>\n"
     ]
    }
   ],
   "source": [
    "printplayerdetails(name = 'virat',age =32)"
   ]
  },
  {
   "cell_type": "code",
   "execution_count": 86,
   "id": "9addb584",
   "metadata": {},
   "outputs": [
    {
     "name": "stdout",
     "output_type": "stream",
     "text": [
      "kwargs : {'name': 'virat', 'age': 32, 'team': 'RCB', 'Salary': 10000}\n",
      "Type of kwargs : <class 'dict'>\n"
     ]
    }
   ],
   "source": [
    "printplayerdetails(name = 'virat',age = 32, team = 'RCB',Salary = 10000)"
   ]
  },
  {
   "cell_type": "code",
   "execution_count": 91,
   "id": "26e66b7f",
   "metadata": {},
   "outputs": [],
   "source": [
    "def printplayerdetails(**kwargs):\n",
    "    print(\"kwargs :\",kwargs)\n",
    "    print(\"Type of kwargs :\",type(kwargs))\n",
    "    for k,v in kwargs.items():\n",
    "        print(\"k : {}, v : {}\".format(k,v))"
   ]
  },
  {
   "cell_type": "code",
   "execution_count": 92,
   "id": "662143d2",
   "metadata": {},
   "outputs": [
    {
     "name": "stdout",
     "output_type": "stream",
     "text": [
      "kwargs : {'name': 'virat', 'age': 32, 'team': 'RCB', 'Salary': 10000}\n",
      "Type of kwargs : <class 'dict'>\n",
      "k : name, v : virat\n",
      "k : age, v : 32\n",
      "k : team, v : RCB\n",
      "k : Salary, v : 10000\n"
     ]
    }
   ],
   "source": [
    "printplayerdetails(name = 'virat',age = 32, team = 'RCB',Salary = 10000)"
   ]
  },
  {
   "cell_type": "code",
   "execution_count": 93,
   "id": "1ac16d1a",
   "metadata": {},
   "outputs": [],
   "source": [
    "d = {'name':'Rohit','age':36,'team':'mumbai'}"
   ]
  },
  {
   "cell_type": "code",
   "execution_count": 95,
   "id": "f614c4e9",
   "metadata": {},
   "outputs": [
    {
     "name": "stdout",
     "output_type": "stream",
     "text": [
      "kwargs : {'name': 'Rohit', 'age': 36, 'team': 'mumbai'}\n",
      "Type of kwargs : <class 'dict'>\n",
      "k : name, v : Rohit\n",
      "k : age, v : 36\n",
      "k : team, v : mumbai\n"
     ]
    }
   ],
   "source": [
    "printplayerdetails(**d)"
   ]
  },
  {
   "cell_type": "code",
   "execution_count": null,
   "id": "25f18c8a",
   "metadata": {},
   "outputs": [],
   "source": []
  },
  {
   "cell_type": "code",
   "execution_count": null,
   "id": "e0396d2c",
   "metadata": {},
   "outputs": [],
   "source": []
  },
  {
   "cell_type": "code",
   "execution_count": null,
   "id": "ec8b59b9",
   "metadata": {},
   "outputs": [],
   "source": []
  },
  {
   "cell_type": "code",
   "execution_count": null,
   "id": "99b6dba2",
   "metadata": {},
   "outputs": [],
   "source": []
  },
  {
   "cell_type": "code",
   "execution_count": null,
   "id": "c242aa7c",
   "metadata": {},
   "outputs": [],
   "source": []
  },
  {
   "cell_type": "code",
   "execution_count": null,
   "id": "da64680f",
   "metadata": {},
   "outputs": [],
   "source": []
  },
  {
   "cell_type": "code",
   "execution_count": null,
   "id": "97f3fe1b",
   "metadata": {},
   "outputs": [],
   "source": []
  }
 ],
 "metadata": {
  "kernelspec": {
   "display_name": "Python 3 (ipykernel)",
   "language": "python",
   "name": "python3"
  },
  "language_info": {
   "codemirror_mode": {
    "name": "ipython",
    "version": 3
   },
   "file_extension": ".py",
   "mimetype": "text/x-python",
   "name": "python",
   "nbconvert_exporter": "python",
   "pygments_lexer": "ipython3",
   "version": "3.9.13"
  }
 },
 "nbformat": 4,
 "nbformat_minor": 5
}
