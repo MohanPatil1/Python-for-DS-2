{
 "cells": [
  {
   "cell_type": "markdown",
   "id": "3ff6b4b1",
   "metadata": {},
   "source": [
    "## Dictionaries\n",
    "- A Data Structures which has key and value pair\n",
    "- syntax {}\n",
    "- Mutable\n",
    "- Not ordered"
   ]
  },
  {
   "cell_type": "code",
   "execution_count": 1,
   "id": "84f626f4",
   "metadata": {},
   "outputs": [],
   "source": [
    "fruits = {'a':'apple','b':'banana','c':'cherry'}"
   ]
  },
  {
   "cell_type": "code",
   "execution_count": 2,
   "id": "290898df",
   "metadata": {},
   "outputs": [
    {
     "name": "stdout",
     "output_type": "stream",
     "text": [
      "<class 'dict'>\n"
     ]
    }
   ],
   "source": [
    "print(type(fruits))"
   ]
  },
  {
   "cell_type": "code",
   "execution_count": 3,
   "id": "cddc96a0",
   "metadata": {},
   "outputs": [
    {
     "data": {
      "text/plain": [
       "3"
      ]
     },
     "execution_count": 3,
     "metadata": {},
     "output_type": "execute_result"
    }
   ],
   "source": [
    "len(fruits)"
   ]
  },
  {
   "cell_type": "code",
   "execution_count": 4,
   "id": "4a47fb0b",
   "metadata": {},
   "outputs": [
    {
     "data": {
      "text/plain": [
       "'apple'"
      ]
     },
     "execution_count": 4,
     "metadata": {},
     "output_type": "execute_result"
    }
   ],
   "source": [
    "fruits['a']"
   ]
  },
  {
   "cell_type": "markdown",
   "id": "7abbc062",
   "metadata": {},
   "source": [
    "## Add Element in dictionary"
   ]
  },
  {
   "cell_type": "code",
   "execution_count": 5,
   "id": "bd60f904",
   "metadata": {},
   "outputs": [],
   "source": [
    "fruits['p']='papaya'"
   ]
  },
  {
   "cell_type": "code",
   "execution_count": 6,
   "id": "c2d77957",
   "metadata": {},
   "outputs": [
    {
     "data": {
      "text/plain": [
       "{'a': 'apple', 'b': 'banana', 'c': 'cherry', 'p': 'papaya'}"
      ]
     },
     "execution_count": 6,
     "metadata": {},
     "output_type": "execute_result"
    }
   ],
   "source": [
    "fruits"
   ]
  },
  {
   "cell_type": "code",
   "execution_count": 7,
   "id": "86649e4f",
   "metadata": {},
   "outputs": [],
   "source": [
    "fruits['a']='apricot'"
   ]
  },
  {
   "cell_type": "code",
   "execution_count": 8,
   "id": "c0715908",
   "metadata": {},
   "outputs": [
    {
     "data": {
      "text/plain": [
       "{'a': 'apricot', 'b': 'banana', 'c': 'cherry', 'p': 'papaya'}"
      ]
     },
     "execution_count": 8,
     "metadata": {},
     "output_type": "execute_result"
    }
   ],
   "source": [
    "fruits"
   ]
  },
  {
   "cell_type": "code",
   "execution_count": 9,
   "id": "96075697",
   "metadata": {},
   "outputs": [],
   "source": [
    "fruits['A']='apple'"
   ]
  },
  {
   "cell_type": "code",
   "execution_count": 10,
   "id": "c94edf47",
   "metadata": {},
   "outputs": [
    {
     "data": {
      "text/plain": [
       "{'a': 'apricot', 'b': 'banana', 'c': 'cherry', 'p': 'papaya', 'A': 'apple'}"
      ]
     },
     "execution_count": 10,
     "metadata": {},
     "output_type": "execute_result"
    }
   ],
   "source": [
    "fruits"
   ]
  },
  {
   "cell_type": "code",
   "execution_count": 11,
   "id": "64fc6fe8",
   "metadata": {},
   "outputs": [],
   "source": [
    "## Delete key - value pair in dictionary"
   ]
  },
  {
   "cell_type": "code",
   "execution_count": 12,
   "id": "aa5127bd",
   "metadata": {},
   "outputs": [
    {
     "data": {
      "text/plain": [
       "'apple'"
      ]
     },
     "execution_count": 12,
     "metadata": {},
     "output_type": "execute_result"
    }
   ],
   "source": [
    "fruits.pop('A')"
   ]
  },
  {
   "cell_type": "code",
   "execution_count": 13,
   "id": "b8b2fdc4",
   "metadata": {},
   "outputs": [
    {
     "data": {
      "text/plain": [
       "{'a': 'apricot', 'b': 'banana', 'c': 'cherry', 'p': 'papaya'}"
      ]
     },
     "execution_count": 13,
     "metadata": {},
     "output_type": "execute_result"
    }
   ],
   "source": [
    "fruits"
   ]
  },
  {
   "cell_type": "code",
   "execution_count": 14,
   "id": "fdb1190e",
   "metadata": {},
   "outputs": [],
   "source": [
    "del fruits['p']"
   ]
  },
  {
   "cell_type": "code",
   "execution_count": 15,
   "id": "92bb9a79",
   "metadata": {},
   "outputs": [
    {
     "data": {
      "text/plain": [
       "{'a': 'apricot', 'b': 'banana', 'c': 'cherry'}"
      ]
     },
     "execution_count": 15,
     "metadata": {},
     "output_type": "execute_result"
    }
   ],
   "source": [
    "fruits"
   ]
  },
  {
   "cell_type": "code",
   "execution_count": 16,
   "id": "6dd1a76c",
   "metadata": {},
   "outputs": [
    {
     "data": {
      "text/plain": [
       "('c', 'cherry')"
      ]
     },
     "execution_count": 16,
     "metadata": {},
     "output_type": "execute_result"
    }
   ],
   "source": [
    "fruits.popitem()"
   ]
  },
  {
   "cell_type": "code",
   "execution_count": 17,
   "id": "681e42b2",
   "metadata": {},
   "outputs": [
    {
     "data": {
      "text/plain": [
       "{'a': 'apricot', 'b': 'banana'}"
      ]
     },
     "execution_count": 17,
     "metadata": {},
     "output_type": "execute_result"
    }
   ],
   "source": [
    "fruits"
   ]
  },
  {
   "cell_type": "code",
   "execution_count": 18,
   "id": "10b26203",
   "metadata": {},
   "outputs": [],
   "source": [
    "fruits['fruits']=['apple','banana','cherry']"
   ]
  },
  {
   "cell_type": "code",
   "execution_count": 19,
   "id": "b644e2dd",
   "metadata": {},
   "outputs": [
    {
     "data": {
      "text/plain": [
       "{'a': 'apricot', 'b': 'banana', 'fruits': ['apple', 'banana', 'cherry']}"
      ]
     },
     "execution_count": 19,
     "metadata": {},
     "output_type": "execute_result"
    }
   ],
   "source": [
    "fruits"
   ]
  },
  {
   "cell_type": "code",
   "execution_count": 20,
   "id": "a2e1a595",
   "metadata": {},
   "outputs": [
    {
     "data": {
      "text/plain": [
       "dict_values(['apricot', 'banana', ['apple', 'banana', 'cherry']])"
      ]
     },
     "execution_count": 20,
     "metadata": {},
     "output_type": "execute_result"
    }
   ],
   "source": [
    "fruits.values()"
   ]
  },
  {
   "cell_type": "code",
   "execution_count": 22,
   "id": "b34a66ee",
   "metadata": {},
   "outputs": [],
   "source": [
    "values = []\n",
    "for i in fruits.values():\n",
    "    values.append(i)"
   ]
  },
  {
   "cell_type": "code",
   "execution_count": 23,
   "id": "6c6ab139",
   "metadata": {},
   "outputs": [
    {
     "data": {
      "text/plain": [
       "['apricot', 'banana', ['apple', 'banana', 'cherry']]"
      ]
     },
     "execution_count": 23,
     "metadata": {},
     "output_type": "execute_result"
    }
   ],
   "source": [
    "values"
   ]
  },
  {
   "cell_type": "code",
   "execution_count": 24,
   "id": "5f3b96cb",
   "metadata": {},
   "outputs": [
    {
     "data": {
      "text/plain": [
       "{'a': 'apricot', 'b': 'banana', 'fruits': ['apple', 'banana', 'cherry']}"
      ]
     },
     "execution_count": 24,
     "metadata": {},
     "output_type": "execute_result"
    }
   ],
   "source": [
    "fruits"
   ]
  },
  {
   "cell_type": "code",
   "execution_count": 25,
   "id": "346b9077",
   "metadata": {},
   "outputs": [
    {
     "data": {
      "text/plain": [
       "('fruits', ['apple', 'banana', 'cherry'])"
      ]
     },
     "execution_count": 25,
     "metadata": {},
     "output_type": "execute_result"
    }
   ],
   "source": [
    "fruits.popitem()"
   ]
  },
  {
   "cell_type": "code",
   "execution_count": 26,
   "id": "4370db7b",
   "metadata": {},
   "outputs": [
    {
     "data": {
      "text/plain": [
       "{'a': 'apricot', 'b': 'banana'}"
      ]
     },
     "execution_count": 26,
     "metadata": {},
     "output_type": "execute_result"
    }
   ],
   "source": [
    "fruits"
   ]
  },
  {
   "cell_type": "code",
   "execution_count": 27,
   "id": "fb42074b",
   "metadata": {},
   "outputs": [],
   "source": [
    "fruits['c']='cherry'"
   ]
  },
  {
   "cell_type": "code",
   "execution_count": 28,
   "id": "6721b6b5",
   "metadata": {},
   "outputs": [
    {
     "data": {
      "text/plain": [
       "{'a': 'apricot', 'b': 'banana', 'c': 'cherry'}"
      ]
     },
     "execution_count": 28,
     "metadata": {},
     "output_type": "execute_result"
    }
   ],
   "source": [
    "fruits"
   ]
  },
  {
   "cell_type": "code",
   "execution_count": 29,
   "id": "123168b7",
   "metadata": {},
   "outputs": [
    {
     "data": {
      "text/plain": [
       "dict_values(['apricot', 'banana', 'cherry'])"
      ]
     },
     "execution_count": 29,
     "metadata": {},
     "output_type": "execute_result"
    }
   ],
   "source": [
    "fruits.values()"
   ]
  },
  {
   "cell_type": "code",
   "execution_count": 30,
   "id": "24487690",
   "metadata": {},
   "outputs": [
    {
     "name": "stdout",
     "output_type": "stream",
     "text": [
      "('a', 'apricot')\n",
      "('b', 'banana')\n",
      "('c', 'cherry')\n"
     ]
    }
   ],
   "source": [
    "for i in fruits.items():\n",
    "    print(i)"
   ]
  },
  {
   "cell_type": "code",
   "execution_count": 31,
   "id": "51c69511",
   "metadata": {},
   "outputs": [
    {
     "data": {
      "text/plain": [
       "dict_items([('a', 'apricot'), ('b', 'banana'), ('c', 'cherry')])"
      ]
     },
     "execution_count": 31,
     "metadata": {},
     "output_type": "execute_result"
    }
   ],
   "source": [
    "fruits.items()"
   ]
  },
  {
   "cell_type": "markdown",
   "id": "dc0d001c",
   "metadata": {},
   "source": [
    "## In operator"
   ]
  },
  {
   "cell_type": "code",
   "execution_count": 32,
   "id": "5617e425",
   "metadata": {},
   "outputs": [],
   "source": [
    "s = 'WELCOME'"
   ]
  },
  {
   "cell_type": "code",
   "execution_count": 34,
   "id": "bfd1cc8c",
   "metadata": {},
   "outputs": [
    {
     "data": {
      "text/plain": [
       "True"
      ]
     },
     "execution_count": 34,
     "metadata": {},
     "output_type": "execute_result"
    }
   ],
   "source": [
    "'W' in s"
   ]
  },
  {
   "cell_type": "code",
   "execution_count": 35,
   "id": "4cdda9f0",
   "metadata": {},
   "outputs": [
    {
     "data": {
      "text/plain": [
       "True"
      ]
     },
     "execution_count": 35,
     "metadata": {},
     "output_type": "execute_result"
    }
   ],
   "source": [
    "'a' in fruits"
   ]
  },
  {
   "cell_type": "code",
   "execution_count": 36,
   "id": "388ac99d",
   "metadata": {},
   "outputs": [
    {
     "data": {
      "text/plain": [
       "False"
      ]
     },
     "execution_count": 36,
     "metadata": {},
     "output_type": "execute_result"
    }
   ],
   "source": [
    "'apricot'in fruits"
   ]
  },
  {
   "cell_type": "markdown",
   "id": "9d3040a2",
   "metadata": {},
   "source": [
    "## Range\n",
    "- Used to generate sequence of number\n",
    "- Syntax,startpos(include),endpos(exclude),stepsize"
   ]
  },
  {
   "cell_type": "code",
   "execution_count": 39,
   "id": "9bd92915",
   "metadata": {},
   "outputs": [],
   "source": [
    "r = range(0,11)"
   ]
  },
  {
   "cell_type": "code",
   "execution_count": 40,
   "id": "b43abda6",
   "metadata": {},
   "outputs": [
    {
     "data": {
      "text/plain": [
       "range(0, 11)"
      ]
     },
     "execution_count": 40,
     "metadata": {},
     "output_type": "execute_result"
    }
   ],
   "source": [
    "r"
   ]
  },
  {
   "cell_type": "code",
   "execution_count": 41,
   "id": "c6b77254",
   "metadata": {},
   "outputs": [
    {
     "name": "stdout",
     "output_type": "stream",
     "text": [
      "<class 'range'>\n"
     ]
    }
   ],
   "source": [
    "print(type(r))"
   ]
  },
  {
   "cell_type": "code",
   "execution_count": 43,
   "id": "30454612",
   "metadata": {},
   "outputs": [
    {
     "data": {
      "text/plain": [
       "[0, 1, 2, 3, 4, 5, 6, 7, 8, 9, 10]"
      ]
     },
     "execution_count": 43,
     "metadata": {},
     "output_type": "execute_result"
    }
   ],
   "source": [
    "r = list(r)\n",
    "r"
   ]
  },
  {
   "cell_type": "code",
   "execution_count": 45,
   "id": "cf924979",
   "metadata": {},
   "outputs": [
    {
     "data": {
      "text/plain": [
       "(0, 1, 2, 3, 4, 5, 6, 7, 8, 9, 10)"
      ]
     },
     "execution_count": 45,
     "metadata": {},
     "output_type": "execute_result"
    }
   ],
   "source": [
    "t = tuple(range(0,11))\n",
    "t"
   ]
  },
  {
   "cell_type": "code",
   "execution_count": 46,
   "id": "0fb19cfd",
   "metadata": {},
   "outputs": [
    {
     "data": {
      "text/plain": [
       "[0, 2, 4, 6, 8, 10]"
      ]
     },
     "execution_count": 46,
     "metadata": {},
     "output_type": "execute_result"
    }
   ],
   "source": [
    "r = list(range(0,11,2))\n",
    "r"
   ]
  },
  {
   "cell_type": "code",
   "execution_count": 48,
   "id": "d61b99e9",
   "metadata": {},
   "outputs": [
    {
     "data": {
      "text/plain": [
       "[11, 10, 9, 8, 7, 6, 5, 4, 3, 2, 1]"
      ]
     },
     "execution_count": 48,
     "metadata": {},
     "output_type": "execute_result"
    }
   ],
   "source": [
    "r = list(range(11,0,-1))\n",
    "r"
   ]
  },
  {
   "cell_type": "code",
   "execution_count": 49,
   "id": "ca231392",
   "metadata": {},
   "outputs": [
    {
     "data": {
      "text/plain": [
       "[100, 90, 80, 70, 60, 50, 40, 30, 20, 10]"
      ]
     },
     "execution_count": 49,
     "metadata": {},
     "output_type": "execute_result"
    }
   ],
   "source": [
    "r = list(range(100,0,-10))\n",
    "r"
   ]
  },
  {
   "cell_type": "markdown",
   "id": "0f6991b0",
   "metadata": {},
   "source": [
    "## Control Structures"
   ]
  },
  {
   "cell_type": "code",
   "execution_count": 50,
   "id": "0363c862",
   "metadata": {},
   "outputs": [],
   "source": [
    "## Input"
   ]
  },
  {
   "cell_type": "code",
   "execution_count": 54,
   "id": "20263d6a",
   "metadata": {},
   "outputs": [
    {
     "name": "stdout",
     "output_type": "stream",
     "text": [
      "Enter the Number :15\n",
      "Enter the Number :15\n"
     ]
    }
   ],
   "source": [
    "score1 = int(input(\"Enter the Number :\"))\n",
    "score2 = int(input(\"Enter the Number :\"))"
   ]
  },
  {
   "cell_type": "code",
   "execution_count": 58,
   "id": "6a1accfd",
   "metadata": {},
   "outputs": [
    {
     "data": {
      "text/plain": [
       "30"
      ]
     },
     "execution_count": 58,
     "metadata": {},
     "output_type": "execute_result"
    }
   ],
   "source": [
    "add_nums(score1,score2)"
   ]
  },
  {
   "cell_type": "code",
   "execution_count": 57,
   "id": "e86ca041",
   "metadata": {},
   "outputs": [],
   "source": [
    "def add_nums(a,b):\n",
    "    return a+b"
   ]
  },
  {
   "cell_type": "markdown",
   "id": "e0aea9f9",
   "metadata": {},
   "source": [
    "## Conditional Statement"
   ]
  },
  {
   "cell_type": "code",
   "execution_count": 59,
   "id": "c00e91d2",
   "metadata": {},
   "outputs": [
    {
     "name": "stdout",
     "output_type": "stream",
     "text": [
      "Enter the Number :15\n",
      "15 <class 'int'>\n"
     ]
    }
   ],
   "source": [
    "number = int(input(\"Enter the Number :\"))\n",
    "print(number,type(number))"
   ]
  },
  {
   "cell_type": "code",
   "execution_count": 61,
   "id": "deb9515f",
   "metadata": {},
   "outputs": [
    {
     "name": "stdout",
     "output_type": "stream",
     "text": [
      "Enter the Number :-10\n",
      "User has entered Negative number.\n"
     ]
    }
   ],
   "source": [
    "number = int(input(\"Enter the Number :\"))\n",
    "if number>=0:\n",
    "    print(\"User has entered Positive number.\")\n",
    "else:\n",
    "    print(\"User has entered Negative number.\")\n"
   ]
  },
  {
   "cell_type": "code",
   "execution_count": 63,
   "id": "fc95f4fe",
   "metadata": {},
   "outputs": [
    {
     "name": "stdout",
     "output_type": "stream",
     "text": [
      "Enter the Number :-10\n"
     ]
    }
   ],
   "source": [
    "number = int(input(\"Enter the Number :\"))\n",
    "if number>=0:\n",
    "    print(\"User has entered Positive number.\")"
   ]
  },
  {
   "cell_type": "code",
   "execution_count": 67,
   "id": "d91b68f2",
   "metadata": {},
   "outputs": [
    {
     "name": "stdout",
     "output_type": "stream",
     "text": [
      "Enter the Number :1\n",
      "User has entered Positive number.\n"
     ]
    }
   ],
   "source": [
    "number = int(input(\"Enter the Number :\"))\n",
    "if number>0:\n",
    "    print(\"User has entered Positive number.\")\n",
    "elif number==0:\n",
    "    print(\"User has entered zero number\")\n",
    "else:\n",
    "    print(\"User has entered negative number\")"
   ]
  },
  {
   "cell_type": "code",
   "execution_count": 70,
   "id": "b916bfbd",
   "metadata": {},
   "outputs": [
    {
     "name": "stdout",
     "output_type": "stream",
     "text": [
      "1\n",
      "2\n",
      "3\n",
      "4\n",
      "5\n",
      "6\n",
      "7\n",
      "8\n",
      "9\n",
      "10\n"
     ]
    }
   ],
   "source": [
    "index = 1\n",
    "while index <= 10:\n",
    "    print(index)\n",
    "    index +=1"
   ]
  },
  {
   "cell_type": "code",
   "execution_count": null,
   "id": "e47a8fd1",
   "metadata": {},
   "outputs": [],
   "source": []
  },
  {
   "cell_type": "code",
   "execution_count": null,
   "id": "a95e5136",
   "metadata": {},
   "outputs": [],
   "source": []
  }
 ],
 "metadata": {
  "kernelspec": {
   "display_name": "Python 3 (ipykernel)",
   "language": "python",
   "name": "python3"
  },
  "language_info": {
   "codemirror_mode": {
    "name": "ipython",
    "version": 3
   },
   "file_extension": ".py",
   "mimetype": "text/x-python",
   "name": "python",
   "nbconvert_exporter": "python",
   "pygments_lexer": "ipython3",
   "version": "3.9.13"
  }
 },
 "nbformat": 4,
 "nbformat_minor": 5
}
